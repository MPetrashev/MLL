{
 "cells": [
  {
   "cell_type": "markdown",
   "metadata": {},
   "source": [
    "# Original Multi-step prediction"
   ]
  },
  {
   "cell_type": "code",
   "execution_count": null,
   "metadata": {},
   "outputs": [],
   "source": [
    "from init import *\n",
    "init()\n",
    "import tensorflow as tf\n",
    "\n",
    "import os\n",
    "import pandas as pd\n",
    "from mll.LSTMPredictor import LSTMPredictor"
   ]
  },
  {
   "cell_type": "code",
   "execution_count": null,
   "metadata": {},
   "outputs": [],
   "source": [
    "zip_path = tf.keras.utils.get_file(\n",
    "    origin='https://storage.googleapis.com/tensorflow/tf-keras-datasets/jena_climate_2009_2016.csv.zip',\n",
    "    fname='jena_climate_2009_2016.csv.zip',\n",
    "    extract=True)\n",
    "csv_path, _ = os.path.splitext(zip_path)\n",
    "df = pd.read_csv(csv_path)\n",
    "\n",
    "predictor = LSTMPredictor(df[['p (mbar)', 'T (degC)', 'rho (g/m**3)']], 'T (degC)', 300000, 720, 72, step=6, seed=13)\n",
    "model = predictor.multi_step_model\n",
    "history = predictor.multi_step_history"
   ]
  },
  {
   "cell_type": "code",
   "execution_count": null,
   "metadata": {},
   "outputs": [],
   "source": [
    "for i, (x, y) in enumerate( predictor.validation_dataset.take(5) ):\n",
    "    if i > 2:\n",
    "        multi_step_plot(x[0], y[0], model.predict(x)[0], predictor.step, predictor.dependent_variable)"
   ]
  },
  {
   "cell_type": "code",
   "execution_count": null,
   "metadata": {},
   "outputs": [],
   "source": [
    "from utils import plot_df\n",
    "from ipywidgets import interact, IntSlider\n",
    "max_count = 20\n",
    "dfs = predictor.multi_step_dfs(max_count)\n",
    "fig = plot_df(dfs[0])\n",
    "\n",
    "@interact(step=IntSlider(min=1, max=max_count, step=1, value=1))\n",
    "def update(step):\n",
    "    global dfs\n",
    "    with fig.batch_update():\n",
    "        df = dfs[step-1]\n",
    "        fig.data[0].y = df['True Future'].values\n",
    "        fig.data[1].y = df['Predicted Future'].values\n",
    "fig"
   ]
  },
  {
   "cell_type": "markdown",
   "metadata": {},
   "source": [
    "# CME & Quandl"
   ]
  },
  {
   "cell_type": "code",
   "execution_count": null,
   "metadata": {},
   "outputs": [],
   "source": [
    "import mll.QuandlFeed as qf\n",
    "#CME_CL is CME WTI crude oil (38) and CME_NG is Natural Gas (43)\n",
    "df = qf.get_data({'CHRIS/CME_' + k: k for k in ['CL1', 'CL2', 'CL3', 'CL4', 'CL5','NG1', 'NG2', 'NG3', 'NG4', 'NG5']}\n",
    "                 , 'Last')\n",
    "df.plot()"
   ]
  },
  {
   "cell_type": "code",
   "execution_count": null,
   "metadata": {},
   "outputs": [],
   "source": [
    "#df.iloc[1760:][['CL3','NG1','NG2','NG3','NG4','NG5']]\n",
    "df2 = df[['CL3','NG1','NG2','NG3','NG4','NG5']].dropna()\n",
    "df2['CL3'] /= 10\n",
    "df2[0:100].plot()"
   ]
  },
  {
   "cell_type": "code",
   "execution_count": null,
   "metadata": {},
   "outputs": [],
   "source": [
    "df2[df2.NG1.isna()]"
   ]
  }
 ],
 "metadata": {
  "kernelspec": {
   "display_name": "mll_gpu",
   "language": "python",
   "name": "mll_gpu"
  },
  "language_info": {
   "codemirror_mode": {
    "name": "ipython",
    "version": 3
   },
   "file_extension": ".py",
   "mimetype": "text/x-python",
   "name": "python",
   "nbconvert_exporter": "python",
   "pygments_lexer": "ipython3",
   "version": "3.7.6"
  }
 },
 "nbformat": 4,
 "nbformat_minor": 1
}
