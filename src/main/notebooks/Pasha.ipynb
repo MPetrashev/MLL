{
 "cells": [
  {
   "cell_type": "code",
   "execution_count": null,
   "metadata": {},
   "outputs": [],
   "source": [
    "from init import init\n",
    "init()\n",
    "from dl import TorchApproximator\n",
    "from scipy.stats import norm\n",
    "import os\n",
    "import numpy as np\n",
    "import pandas as pd\n",
    "from utils import Timer\n",
    "\n",
    "os.getpid()"
   ]
  },
  {
   "cell_type": "code",
   "execution_count": null,
   "metadata": {},
   "outputs": [],
   "source": [
    "def ds(K, S, T, vol, r, q):\n",
    "    vol_T = vol * np.sqrt(T)\n",
    "    d1 = (np.log(S / K) + (r - q + 0.5 * vol * vol) * T) / vol_T\n",
    "    d2 = d1 - vol_T\n",
    "    return d1, d2\n",
    "\n",
    "\n",
    "def put(K, S, T, vol, r, q):\n",
    "    disc = np.exp(-r * T)\n",
    "    pv_K = K * disc\n",
    "    spot_after_div = S * np.exp(-q * T)\n",
    "\n",
    "    d1, d2 = ds(K, S, T, vol, r, q)\n",
    "    v = norm.cdf(-d2) * pv_K - norm.cdf(-d1) * spot_after_div\n",
    "    return v * 100.\n",
    "\n",
    "\n",
    "v_put = np.vectorize(put)"
   ]
  },
  {
   "cell_type": "code",
   "execution_count": null,
   "metadata": {},
   "outputs": [],
   "source": [
    "%%time\n",
    "csv_file = 'put_prices_10M.csv'\n",
    "if os.path.isfile(csv_file):\n",
    "    df = pd.read_csv(csv_file)\n",
    "else:\n",
    "    seed = 314\n",
    "    np.random.seed(seed)\n",
    "\n",
    "    n_samples = 10*1000*1000  # Total number of samples\n",
    "    domain = {\n",
    "        'spot': (0.5, 2),\n",
    "        'time': (0, 3.0),\n",
    "        'sigma': (0.1, 0.5),\n",
    "        'rate': (-0.01, 0.03),\n",
    "        'div': (0, 0.02)\n",
    "    }\n",
    "    samples = np.zeros(shape=(len(domain.keys()), n_samples))\n",
    "    for i, r in enumerate(domain.values()):\n",
    "        samples[i] = np.random.uniform(r[0], r[1], n_samples)\n",
    "    values = v_put(K=1, S=samples[0], T=samples[1], vol=samples[2], r=samples[3], q=samples[4])\n",
    "    df = pd.DataFrame.from_dict({'PV' : values,'S':samples[0], 'T':samples[1], 'vol':samples[2], 'r':samples[3], 'q':samples[4]})\n",
    "    df.to_csv(csv_file, index=False)\n",
    "    df.head()    "
   ]
  },
  {
   "cell_type": "code",
   "execution_count": null,
   "metadata": {},
   "outputs": [],
   "source": [
    "def run_scenario(scenario):\n",
    "    with Timer('Train'):\n",
    "        approximator = TorchApproximator()\n",
    "        checkpoint, history = approximator.train(df.iloc[:, df.columns != 'PV'].T, df.PV, **scenario)\n",
    "        model = approximator.load_model(checkpoint)\n",
    "        original, y_approx = approximator.validation_set(model)\n",
    "        error = y_approx - original\n",
    "\n",
    "    mean_err = np.mean(error)\n",
    "    std_error = np.std(error)\n",
    "    return (mean_err, std_error), approximator"
   ]
  },
  {
   "cell_type": "code",
   "execution_count": null,
   "metadata": {},
   "outputs": [],
   "source": [
    "default_scenario = {\n",
    "    'n_epochs': 4000,\n",
    "    'n_layers': 4,\n",
    "    'n_hidden': 100\n",
    "}\n",
    "results =[]\n",
    "scenarios = [\n",
    "    {'n_layers':2, 'n_hidden':100}, \n",
    "]\n",
    "for scenario in scenarios:\n",
    "    scenario =  {**default_scenario, **scenario }\n",
    "    result, approximator = run_scenario(scenario)\n",
    "    print( result, scenario )\n",
    "    results.append((result, scenario))\n",
    "\n",
    "data = [{**{'mean':abs(x[0]), 'std':x[1]}, **y} for x,y in results]\n",
    "df2 = pd.DataFrame(data)\n",
    "df2"
   ]
  }
 ],
 "metadata": {
  "kernelspec": {
   "display_name": "mll",
   "language": "python",
   "name": "mll"
  },
  "language_info": {
   "codemirror_mode": {
    "name": "ipython",
    "version": 3
   },
   "file_extension": ".py",
   "mimetype": "text/x-python",
   "name": "python",
   "nbconvert_exporter": "python",
   "pygments_lexer": "ipython3",
   "version": "3.8.10"
  }
 },
 "nbformat": 4,
 "nbformat_minor": 4
}
