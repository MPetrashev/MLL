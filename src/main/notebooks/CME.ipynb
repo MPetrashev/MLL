{
 "cells": [
  {
   "cell_type": "markdown",
   "metadata": {},
   "source": [
    "# Gas"
   ]
  },
  {
   "cell_type": "code",
   "execution_count": null,
   "metadata": {},
   "outputs": [],
   "source": [
    "from init import *\n",
    "init()\n",
    "\n",
    "import tensorflow as tf\n",
    "\n",
    "import matplotlib as mpl\n",
    "import matplotlib.pyplot as plt\n",
    "from utils import plot_df\n",
    "\n",
    "import numpy as np\n",
    "import os\n",
    "import pandas as pd\n",
    "\n",
    "from mll.LSTMPredictor import LSTMPredictor\n",
    "\n",
    "mpl.rcParams['figure.figsize'] = (8, 6)\n",
    "mpl.rcParams['axes.grid'] = False"
   ]
  },
  {
   "cell_type": "code",
   "execution_count": null,
   "metadata": {},
   "outputs": [],
   "source": [
    "import mll.QuandlFeed as qf\n",
    "df = qf.get_data({'CHRIS/CME_' + k: k for k in ['CL1', 'CL2', 'CL3', 'CL4', 'CL5']}, 'Last').dropna()\n",
    "df.plot(subplots=True)"
   ]
  },
  {
   "cell_type": "code",
   "execution_count": null,
   "metadata": {},
   "outputs": [],
   "source": [
    "df.head()"
   ]
  },
  {
   "cell_type": "code",
   "execution_count": null,
   "metadata": {},
   "outputs": [],
   "source": [
    "predictor = LSTMPredictor(df, 'CL3', train_split=int( len(df)*.7 ), past_history=720, future_target=72, seed=13)\n",
    "multi_step_model = predictor.multi_step_model\n",
    "multi_step_history = predictor.multi_step_history"
   ]
  },
  {
   "cell_type": "code",
   "execution_count": null,
   "metadata": {},
   "outputs": [],
   "source": [
    "from utils import plot_df\n",
    "from ipywidgets import interact, IntSlider\n",
    "# from IPython.display import display\n",
    "max_count = 20\n",
    "dfs = predictor.multi_step_dfs(max_count)\n",
    "fig = plot_df(dfs[0])\n",
    "\n",
    "@interact(step=IntSlider(min=1, max=max_count, step=1, value=1))\n",
    "def update(step):\n",
    "    global dfs\n",
    "    with fig.batch_update():\n",
    "        df = dfs[step-1]\n",
    "        fig.data[0].y = df['True Future'].values\n",
    "        fig.data[1].y = df['Predicted Future'].values #np.concatenate([np.full(719, None), np.full(72,step)])\n",
    "fig"
   ]
  },
  {
   "cell_type": "markdown",
   "metadata": {},
   "source": [
    "# Negative prices issue"
   ]
  },
  {
   "cell_type": "code",
   "execution_count": null,
   "metadata": {},
   "outputs": [],
   "source": [
    "# Another possible problem: price collapse to negative values\n",
    "# plot_df(df, x_title='Dates', y_title='Prices', title='Crude Oil')\n",
    "plot_df(df[-100:], x_title='Dates', y_title='Prices', title='Crude Oil')"
   ]
  }
 ],
 "metadata": {
  "kernelspec": {
   "display_name": "mll_gpu",
   "language": "python",
   "name": "mll_gpu"
  },
  "language_info": {
   "codemirror_mode": {
    "name": "ipython",
    "version": 3
   },
   "file_extension": ".py",
   "mimetype": "text/x-python",
   "name": "python",
   "nbconvert_exporter": "python",
   "pygments_lexer": "ipython3",
   "version": "3.7.6"
  }
 },
 "nbformat": 4,
 "nbformat_minor": 2
}
